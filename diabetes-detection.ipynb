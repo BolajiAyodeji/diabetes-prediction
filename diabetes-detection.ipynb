{
 "cells": [
  {
   "cell_type": "code",
   "execution_count": 96,
   "source": [
    "import pandas as pd\n",
    "import numpy as np\n",
    "import matplotlib.pyplot as plt\n",
    "import seaborn as sns\n",
    "import warnings  as ws\n",
    "ws.filterwarnings(\"ignore\")"
   ],
   "outputs": [],
   "metadata": {
    "_cell_guid": "b1076dfc-b9ad-4769-8c92-a6c4dae69d19",
    "_uuid": "8f2839f25d086af736a60e9eeb907d3b93b6e0e5",
    "execution": {
     "iopub.execute_input": "2021-11-05T01:46:40.039682Z",
     "iopub.status.busy": "2021-11-05T01:46:40.039167Z",
     "iopub.status.idle": "2021-11-05T01:46:40.963369Z",
     "shell.execute_reply": "2021-11-05T01:46:40.962303Z",
     "shell.execute_reply.started": "2021-11-05T01:46:40.039634Z"
    }
   }
  },
  {
   "cell_type": "code",
   "execution_count": 97,
   "source": [
    "df = pd.read_csv(\"diabetes-dataset.csv\")"
   ],
   "outputs": [],
   "metadata": {
    "_cell_guid": "79c7e3d0-c299-4dcb-8224-4455121ee9b0",
    "_uuid": "d629ff2d2480ee46fbb7e2d37f6b5fab8052498a",
    "execution": {
     "iopub.execute_input": "2021-11-05T01:46:40.96677Z",
     "iopub.status.busy": "2021-11-05T01:46:40.966451Z",
     "iopub.status.idle": "2021-11-05T01:46:40.989675Z",
     "shell.execute_reply": "2021-11-05T01:46:40.988882Z",
     "shell.execute_reply.started": "2021-11-05T01:46:40.966739Z"
    }
   }
  },
  {
   "cell_type": "code",
   "execution_count": 98,
   "source": [
    "df.head()"
   ],
   "outputs": [
    {
     "output_type": "execute_result",
     "data": {
      "text/html": [
       "<div>\n",
       "<style scoped>\n",
       "    .dataframe tbody tr th:only-of-type {\n",
       "        vertical-align: middle;\n",
       "    }\n",
       "\n",
       "    .dataframe tbody tr th {\n",
       "        vertical-align: top;\n",
       "    }\n",
       "\n",
       "    .dataframe thead th {\n",
       "        text-align: right;\n",
       "    }\n",
       "</style>\n",
       "<table border=\"1\" class=\"dataframe\">\n",
       "  <thead>\n",
       "    <tr style=\"text-align: right;\">\n",
       "      <th></th>\n",
       "      <th>Pregnancies</th>\n",
       "      <th>Glucose</th>\n",
       "      <th>BloodPressure</th>\n",
       "      <th>SkinThickness</th>\n",
       "      <th>Insulin</th>\n",
       "      <th>BMI</th>\n",
       "      <th>DiabetesPedigreeFunction</th>\n",
       "      <th>Age</th>\n",
       "      <th>Outcome</th>\n",
       "    </tr>\n",
       "  </thead>\n",
       "  <tbody>\n",
       "    <tr>\n",
       "      <th>0</th>\n",
       "      <td>2</td>\n",
       "      <td>138</td>\n",
       "      <td>62</td>\n",
       "      <td>35</td>\n",
       "      <td>0</td>\n",
       "      <td>33.6</td>\n",
       "      <td>0.127</td>\n",
       "      <td>47</td>\n",
       "      <td>1</td>\n",
       "    </tr>\n",
       "    <tr>\n",
       "      <th>1</th>\n",
       "      <td>0</td>\n",
       "      <td>84</td>\n",
       "      <td>82</td>\n",
       "      <td>31</td>\n",
       "      <td>125</td>\n",
       "      <td>38.2</td>\n",
       "      <td>0.233</td>\n",
       "      <td>23</td>\n",
       "      <td>0</td>\n",
       "    </tr>\n",
       "    <tr>\n",
       "      <th>2</th>\n",
       "      <td>0</td>\n",
       "      <td>145</td>\n",
       "      <td>0</td>\n",
       "      <td>0</td>\n",
       "      <td>0</td>\n",
       "      <td>44.2</td>\n",
       "      <td>0.630</td>\n",
       "      <td>31</td>\n",
       "      <td>1</td>\n",
       "    </tr>\n",
       "    <tr>\n",
       "      <th>3</th>\n",
       "      <td>0</td>\n",
       "      <td>135</td>\n",
       "      <td>68</td>\n",
       "      <td>42</td>\n",
       "      <td>250</td>\n",
       "      <td>42.3</td>\n",
       "      <td>0.365</td>\n",
       "      <td>24</td>\n",
       "      <td>1</td>\n",
       "    </tr>\n",
       "    <tr>\n",
       "      <th>4</th>\n",
       "      <td>1</td>\n",
       "      <td>139</td>\n",
       "      <td>62</td>\n",
       "      <td>41</td>\n",
       "      <td>480</td>\n",
       "      <td>40.7</td>\n",
       "      <td>0.536</td>\n",
       "      <td>21</td>\n",
       "      <td>0</td>\n",
       "    </tr>\n",
       "  </tbody>\n",
       "</table>\n",
       "</div>"
      ],
      "text/plain": [
       "   Pregnancies  Glucose  BloodPressure  SkinThickness  Insulin   BMI  \\\n",
       "0            2      138             62             35        0  33.6   \n",
       "1            0       84             82             31      125  38.2   \n",
       "2            0      145              0              0        0  44.2   \n",
       "3            0      135             68             42      250  42.3   \n",
       "4            1      139             62             41      480  40.7   \n",
       "\n",
       "   DiabetesPedigreeFunction  Age  Outcome  \n",
       "0                     0.127   47        1  \n",
       "1                     0.233   23        0  \n",
       "2                     0.630   31        1  \n",
       "3                     0.365   24        1  \n",
       "4                     0.536   21        0  "
      ]
     },
     "metadata": {},
     "execution_count": 98
    }
   ],
   "metadata": {
    "execution": {
     "iopub.execute_input": "2021-11-05T01:46:40.991092Z",
     "iopub.status.busy": "2021-11-05T01:46:40.990691Z",
     "iopub.status.idle": "2021-11-05T01:46:41.011345Z",
     "shell.execute_reply": "2021-11-05T01:46:41.010619Z",
     "shell.execute_reply.started": "2021-11-05T01:46:40.991062Z"
    }
   }
  },
  {
   "cell_type": "code",
   "execution_count": 99,
   "source": [
    "sns.set()\n",
    "sns.countplot(df[\"Outcome\"])\n",
    "plt.show()"
   ],
   "outputs": [
    {
     "output_type": "display_data",
     "data": {
      "image/png": "[encoded data removed]",
      "text/plain": [
       "<Figure size 432x288 with 1 Axes>"
      ]
     },
     "metadata": {}
    }
   ],
   "metadata": {
    "execution": {
     "iopub.execute_input": "2021-11-05T01:46:41.013411Z",
     "iopub.status.busy": "2021-11-05T01:46:41.012765Z",
     "iopub.status.idle": "2021-11-05T01:46:41.204809Z",
     "shell.execute_reply": "2021-11-05T01:46:41.203817Z",
     "shell.execute_reply.started": "2021-11-05T01:46:41.01335Z"
    }
   }
  },
  {
   "cell_type": "markdown",
   "source": [
    "Above graph clearly shows the class imbalance "
   ],
   "metadata": {}
  },
  {
   "cell_type": "code",
   "execution_count": 100,
   "source": [
    "df.isna().sum()"
   ],
   "outputs": [
    {
     "output_type": "execute_result",
     "data": {
      "text/plain": [
       "Pregnancies                 0\n",
       "Glucose                     0\n",
       "BloodPressure               0\n",
       "SkinThickness               0\n",
       "Insulin                     0\n",
       "BMI                         0\n",
       "DiabetesPedigreeFunction    0\n",
       "Age                         0\n",
       "Outcome                     0\n",
       "dtype: int64"
      ]
     },
     "metadata": {},
     "execution_count": 100
    }
   ],
   "metadata": {
    "execution": {
     "iopub.execute_input": "2021-11-05T01:46:41.209474Z",
     "iopub.status.busy": "2021-11-05T01:46:41.20917Z",
     "iopub.status.idle": "2021-11-05T01:46:41.217269Z",
     "shell.execute_reply": "2021-11-05T01:46:41.216552Z",
     "shell.execute_reply.started": "2021-11-05T01:46:41.209442Z"
    }
   }
  },
  {
   "cell_type": "code",
   "execution_count": 101,
   "source": [
    "from sklearn.preprocessing import StandardScaler"
   ],
   "outputs": [],
   "metadata": {
    "execution": {
     "iopub.execute_input": "2021-11-05T01:46:41.220058Z",
     "iopub.status.busy": "2021-11-05T01:46:41.219562Z",
     "iopub.status.idle": "2021-11-05T01:46:41.283425Z",
     "shell.execute_reply": "2021-11-05T01:46:41.282565Z",
     "shell.execute_reply.started": "2021-11-05T01:46:41.220019Z"
    }
   }
  },
  {
   "cell_type": "code",
   "execution_count": 206,
   "source": [
    "# Split the data \n",
    "from sklearn.model_selection import train_test_split\n",
    "X = df.drop(columns =[ \"Outcome\", \"Pregnancies\"])\n",
    "y = df[\"Outcome\"]\n",
    "X_train , X_test, y_train, y_test = train_test_split (X, y, test_size = 0.2, random_state = 42, stratify = y)"
   ],
   "outputs": [
    {
     "output_type": "execute_result",
     "data": {
      "text/html": [
       "<div>\n",
       "<style scoped>\n",
       "    .dataframe tbody tr th:only-of-type {\n",
       "        vertical-align: middle;\n",
       "    }\n",
       "\n",
       "    .dataframe tbody tr th {\n",
       "        vertical-align: top;\n",
       "    }\n",
       "\n",
       "    .dataframe thead th {\n",
       "        text-align: right;\n",
       "    }\n",
       "</style>\n",
       "<table border=\"1\" class=\"dataframe\">\n",
       "  <thead>\n",
       "    <tr style=\"text-align: right;\">\n",
       "      <th></th>\n",
       "      <th>Glucose</th>\n",
       "      <th>BloodPressure</th>\n",
       "      <th>SkinThickness</th>\n",
       "      <th>Insulin</th>\n",
       "      <th>BMI</th>\n",
       "      <th>DiabetesPedigreeFunction</th>\n",
       "      <th>Age</th>\n",
       "    </tr>\n",
       "  </thead>\n",
       "  <tbody>\n",
       "    <tr>\n",
       "      <th>0</th>\n",
       "      <td>138</td>\n",
       "      <td>62</td>\n",
       "      <td>35</td>\n",
       "      <td>0</td>\n",
       "      <td>33.6</td>\n",
       "      <td>0.127</td>\n",
       "      <td>47</td>\n",
       "    </tr>\n",
       "    <tr>\n",
       "      <th>1</th>\n",
       "      <td>84</td>\n",
       "      <td>82</td>\n",
       "      <td>31</td>\n",
       "      <td>125</td>\n",
       "      <td>38.2</td>\n",
       "      <td>0.233</td>\n",
       "      <td>23</td>\n",
       "    </tr>\n",
       "    <tr>\n",
       "      <th>2</th>\n",
       "      <td>145</td>\n",
       "      <td>0</td>\n",
       "      <td>0</td>\n",
       "      <td>0</td>\n",
       "      <td>44.2</td>\n",
       "      <td>0.630</td>\n",
       "      <td>31</td>\n",
       "    </tr>\n",
       "    <tr>\n",
       "      <th>3</th>\n",
       "      <td>135</td>\n",
       "      <td>68</td>\n",
       "      <td>42</td>\n",
       "      <td>250</td>\n",
       "      <td>42.3</td>\n",
       "      <td>0.365</td>\n",
       "      <td>24</td>\n",
       "    </tr>\n",
       "    <tr>\n",
       "      <th>4</th>\n",
       "      <td>139</td>\n",
       "      <td>62</td>\n",
       "      <td>41</td>\n",
       "      <td>480</td>\n",
       "      <td>40.7</td>\n",
       "      <td>0.536</td>\n",
       "      <td>21</td>\n",
       "    </tr>\n",
       "  </tbody>\n",
       "</table>\n",
       "</div>"
      ],
      "text/plain": [
       "   Glucose  BloodPressure  SkinThickness  Insulin   BMI  \\\n",
       "0      138             62             35        0  33.6   \n",
       "1       84             82             31      125  38.2   \n",
       "2      145              0              0        0  44.2   \n",
       "3      135             68             42      250  42.3   \n",
       "4      139             62             41      480  40.7   \n",
       "\n",
       "   DiabetesPedigreeFunction  Age  \n",
       "0                     0.127   47  \n",
       "1                     0.233   23  \n",
       "2                     0.630   31  \n",
       "3                     0.365   24  \n",
       "4                     0.536   21  "
      ]
     },
     "metadata": {},
     "execution_count": 206
    }
   ],
   "metadata": {
    "execution": {
     "iopub.execute_input": "2021-11-05T01:46:41.285083Z",
     "iopub.status.busy": "2021-11-05T01:46:41.284625Z",
     "iopub.status.idle": "2021-11-05T01:46:41.349541Z",
     "shell.execute_reply": "2021-11-05T01:46:41.348481Z",
     "shell.execute_reply.started": "2021-11-05T01:46:41.285044Z"
    }
   }
  },
  {
   "cell_type": "code",
   "execution_count": 103,
   "source": [
    "# Scaling the data\n",
    "scaler = StandardScaler()\n",
    "X_train_scaled = scaler.fit_transform(X_train)\n",
    "X_test_scaled = scaler.transform(X_test)"
   ],
   "outputs": [],
   "metadata": {
    "execution": {
     "iopub.execute_input": "2021-11-05T01:46:41.351216Z",
     "iopub.status.busy": "2021-11-05T01:46:41.350814Z",
     "iopub.status.idle": "2021-11-05T01:46:41.364024Z",
     "shell.execute_reply": "2021-11-05T01:46:41.363108Z",
     "shell.execute_reply.started": "2021-11-05T01:46:41.351182Z"
    }
   }
  },
  {
   "cell_type": "code",
   "execution_count": 174,
   "source": [
    "# Fitting the model to the training data\n",
    "from sklearn.dummy import DummyClassifier\n",
    "from sklearn.linear_model import LogisticRegression\n",
    "from sklearn.tree import DecisionTreeClassifier\n",
    "from sklearn.neighbors import KNeighborsClassifier\n",
    "from sklearn.naive_bayes import GaussianNB\n",
    "from sklearn.svm import SVC\n",
    "from sklearn.ensemble import RandomForestClassifier\n",
    "from sklearn.ensemble import BaggingClassifier\n",
    "from sklearn.ensemble import AdaBoostClassifier\n",
    "from sklearn.ensemble import VotingClassifier\n",
    "from sklearn.ensemble import StackingClassifier\n",
    "from xgboost import XGBClassifier\n",
    "from sklearn.metrics import accuracy_score\n"
   ],
   "outputs": [],
   "metadata": {
    "execution": {
     "iopub.execute_input": "2021-11-05T01:46:41.366205Z",
     "iopub.status.busy": "2021-11-05T01:46:41.365651Z",
     "iopub.status.idle": "2021-11-05T01:46:42.552764Z",
     "shell.execute_reply": "2021-11-05T01:46:42.551792Z",
     "shell.execute_reply.started": "2021-11-05T01:46:41.366163Z"
    }
   }
  },
  {
   "cell_type": "code",
   "execution_count": 125,
   "source": [
    "model=[]\n",
    "model_accuracy=[]\n"
   ],
   "outputs": [
    {
     "output_type": "execute_result",
     "data": {
      "text/plain": [
       "array([[-0.60171383,  0.87459814, -0.2353644 , ..., -0.3616138 ,\n",
       "         0.71432162, -0.52199275],\n",
       "       [-0.97799321,  0.02557033, -0.2353644 , ..., -0.6088394 ,\n",
       "        -1.21664095, -0.9417698 ],\n",
       "       [-0.88392336,  0.02557033,  0.64376894, ..., -0.22563971,\n",
       "        -0.4885731 , -0.85781439],\n",
       "       ...,\n",
       "       [ 0.46441106,  0.66234119, -1.30288346, ..., -3.98346884,\n",
       "         0.54021843,  3.00413441],\n",
       "       [-0.66442706, -0.08055815,  0.26699751, ...,  0.77562397,\n",
       "        -0.46008349, -0.60594816],\n",
       "       [ 1.27968303,  1.82975443, -1.30288346, ...,  0.67673373,\n",
       "        -1.00771713,  1.57689246]])"
      ]
     },
     "metadata": {},
     "execution_count": 125
    }
   ],
   "metadata": {}
  },
  {
   "cell_type": "code",
   "execution_count": 106,
   "source": [
    "\n",
    "log = LogisticRegression()\n",
    "model.append('LogisticRegression')\n",
    "log.fit(X_train_scaled, y_train)\n",
    "y_pred= log.predict(X_test_scaled)\n",
    "log_accuracy= accuracy_score(y_pred, y_test)\n",
    "model_accuracy.append(log_accuracy)\n",
    "# Evaluating the Random Forest Model\n",
    "print (\"Accuacy on test set is \", round(log.score(X_test_scaled, y_test) * 100, 2), \"%\")\n",
    "print (\"Accuacy on train set is \", round(log.score(X_train_scaled, y_train) * 100, 2), \"%\")\n"
   ],
   "outputs": [
    {
     "output_type": "stream",
     "name": "stdout",
     "text": [
      "Accuacy on test set is  79.25 %\n",
      "Accuacy on train set is  76.81 %\n"
     ]
    }
   ],
   "metadata": {
    "execution": {
     "iopub.execute_input": "2021-11-05T01:46:42.554391Z",
     "iopub.status.busy": "2021-11-05T01:46:42.554093Z",
     "iopub.status.idle": "2021-11-05T01:46:44.926302Z",
     "shell.execute_reply": "2021-11-05T01:46:44.925448Z",
     "shell.execute_reply.started": "2021-11-05T01:46:42.554362Z"
    }
   }
  },
  {
   "cell_type": "code",
   "execution_count": 107,
   "source": [
    "rfe = RandomForestClassifier()\n",
    "model.append('RandomForestClassifier')\n",
    "\n",
    "rfe.fit(X_train_scaled, y_train)\n",
    "y_pred= rfe.predict(X_test_scaled)\n",
    "rfe_accuracy= accuracy_score(y_pred, y_test)\n",
    "model_accuracy.append(rfe_accuracy)\n",
    "# Evaluating the Random Forest Model\n",
    "print (\"Accuracy on test set is \", round(rfe.score(X_test_scaled, y_test) * 100, 2), \"%\")\n",
    "print (\"Accuracy on train set is \", round(rfe.score(X_train_scaled, y_train) * 100, 2), \"%\")"
   ],
   "outputs": [
    {
     "output_type": "stream",
     "name": "stdout",
     "text": [
      "Accuacy on test set is  98.5 %\n",
      "Accuacy on train set is  100.0 %\n"
     ]
    }
   ],
   "metadata": {
    "execution": {
     "iopub.execute_input": "2021-11-05T01:46:44.928247Z",
     "iopub.status.busy": "2021-11-05T01:46:44.92767Z",
     "iopub.status.idle": "2021-11-05T01:46:44.933494Z",
     "shell.execute_reply": "2021-11-05T01:46:44.932283Z",
     "shell.execute_reply.started": "2021-11-05T01:46:44.928208Z"
    }
   }
  },
  {
   "cell_type": "code",
   "execution_count": 127,
   "source": [
    "dec = DecisionTreeClassifier()\n",
    "model.append('DecisionTreeClassifier')\n",
    "\n",
    "dec.fit(X_train_scaled, y_train)\n",
    "y_pred= dec.predict(X_test_scaled)\n",
    "dec_accuracy= accuracy_score(y_pred, y_test)\n",
    "model_accuracy.append(dec_accuracy)\n",
    "# Evaluating the Random Forest Model\n",
    "print (\"Accuracy on test set is \", round(dec.score(X_test_scaled, y_test) * 100, 2), \"%\")\n",
    "print (\"Accuracy on train set is \", round(dec.score(X_train_scaled, y_train) * 100, 2), \"%\")"
   ],
   "outputs": [
    {
     "output_type": "stream",
     "name": "stdout",
     "text": [
      "Accuacy on test set is  98.5 %\n",
      "Accuacy on train set is  100.0 %\n"
     ]
    },
    {
     "output_type": "execute_result",
     "data": {
      "text/plain": [
       "array([0], dtype=int64)"
      ]
     },
     "metadata": {},
     "execution_count": 127
    }
   ],
   "metadata": {
    "execution": {
     "iopub.execute_input": "2021-11-05T01:46:48.354206Z",
     "iopub.status.busy": "2021-11-05T01:46:48.353875Z",
     "iopub.status.idle": "2021-11-05T01:46:48.508699Z",
     "shell.execute_reply": "2021-11-05T01:46:48.507699Z",
     "shell.execute_reply.started": "2021-11-05T01:46:48.354175Z"
    }
   }
  },
  {
   "cell_type": "code",
   "execution_count": 109,
   "source": [
    "svc = SVC()\n",
    "model.append('SVC')\n",
    "\n",
    "svc.fit(X_train_scaled, y_train)\n",
    "y_pred= rfe.predict(X_test_scaled)\n",
    "svc_accuracy= accuracy_score(y_pred, y_test)\n",
    "model_accuracy.append(svc_accuracy)\n",
    "# Evaluating the Random Forest Model\n",
    "print (\"Accuracy on test set is \", round(svc.score(X_test_scaled, y_test) * 100, 2), \"%\")\n",
    "print (\"Accuracy on train set is \", round(svc.score(X_train_scaled, y_train) * 100, 2), \"%\")"
   ],
   "outputs": [
    {
     "output_type": "stream",
     "name": "stdout",
     "text": [
      "Accuacy on test set is  81.5 %\n",
      "Accuacy on train set is  84.5 %\n"
     ]
    }
   ],
   "metadata": {
    "execution": {
     "iopub.execute_input": "2021-11-05T01:46:48.510548Z",
     "iopub.status.busy": "2021-11-05T01:46:48.51025Z",
     "iopub.status.idle": "2021-11-05T01:46:48.607368Z",
     "shell.execute_reply": "2021-11-05T01:46:48.606469Z",
     "shell.execute_reply.started": "2021-11-05T01:46:48.510517Z"
    }
   }
  },
  {
   "cell_type": "code",
   "execution_count": 110,
   "source": [
    "knn = KNeighborsClassifier()\n",
    "model.append('KNeighborsClassifier')\n",
    "\n",
    "knn.fit(X_train_scaled, y_train)\n",
    "y_pred= rfe.predict(X_test_scaled)\n",
    "knn_accuracy= accuracy_score(y_pred, y_test)\n",
    "model_accuracy.append(knn_accuracy)\n",
    "# Evaluating the Random Forest Model\n",
    "print (\"Accuracy on test set is \", round(knn.score(X_test_scaled, y_test) * 100, 2), \"%\")\n",
    "print (\"Accuracy on train set is \", round(knn.score(X_train_scaled, y_train) * 100, 2), \"%\")"
   ],
   "outputs": [
    {
     "output_type": "stream",
     "name": "stdout",
     "text": [
      "Accuacy on test set is  82.5 %\n",
      "Accuacy on train set is  90.25 %\n"
     ]
    }
   ],
   "metadata": {
    "execution": {
     "iopub.execute_input": "2021-11-05T01:46:48.608621Z",
     "iopub.status.busy": "2021-11-05T01:46:48.608348Z",
     "iopub.status.idle": "2021-11-05T01:47:31.718228Z",
     "shell.execute_reply": "2021-11-05T01:47:31.717229Z",
     "shell.execute_reply.started": "2021-11-05T01:46:48.608586Z"
    }
   }
  },
  {
   "cell_type": "code",
   "execution_count": 111,
   "source": [],
   "outputs": [
    {
     "output_type": "execute_result",
     "data": {
      "text/plain": [
       "['LogisticRegression',\n",
       " 'RandomForestClassifier',\n",
       " 'DecisionTreeClassifier',\n",
       " 'SVC',\n",
       " 'KNeighborsClassifier']"
      ]
     },
     "metadata": {},
     "execution_count": 111
    }
   ],
   "metadata": {}
  },
  {
   "cell_type": "code",
   "execution_count": 112,
   "source": [
    "fig,ax=plt.subplots(figsize=(10,8))\n",
    "sns.barplot(model,model_accuracy)\n",
    "ax.set_title(\"Accuracy of Models on Test Data\",pad=20)\n",
    "ax.set_xlabel(\"Models\",labelpad=20)\n",
    "ax.set_ylabel(\"Accuracy\",labelpad=20)\n",
    "plt.xticks(rotation=90)\n",
    "\n",
    "for p in ax.patches:\n",
    "    width, height = p.get_width(), p.get_height()\n",
    "    x, y = p.get_xy() \n",
    "    ax.annotate('{:.0%}'.format(height), (x+0.25, y + height + 0.01))"
   ],
   "outputs": [
    {
     "output_type": "display_data",
     "data": {
      "image/png": "[encoded data removed]",
      "text/plain": [
       "<Figure size 720x576 with 1 Axes>"
      ]
     },
     "metadata": {}
    }
   ],
   "metadata": {
    "execution": {
     "iopub.execute_input": "2021-11-05T01:47:31.720635Z",
     "iopub.status.busy": "2021-11-05T01:47:31.720215Z",
     "iopub.status.idle": "2021-11-05T01:47:31.726273Z",
     "shell.execute_reply": "2021-11-05T01:47:31.72525Z",
     "shell.execute_reply.started": "2021-11-05T01:47:31.720598Z"
    }
   }
  },
  {
   "cell_type": "code",
   "execution_count": 187,
   "source": [
    "bagging_models=[]\n",
    "bagging_accuracy=[]\n",
    "\n",
    "models_scores=[]"
   ],
   "outputs": [],
   "metadata": {}
  },
  {
   "cell_type": "code",
   "execution_count": 201,
   "source": [
    "bag_dec= BaggingClassifier(base_estimator=dec)\n",
    "bagging_models.append('bagging decisionTree')\n",
    "bag_dec.fit(X_train_scaled, y_train)\n",
    "bag_dec_pred= bag_dec.predict(X_test_scaled)\n",
    "bag_dec_accuracy= accuracy_score(bag_dec_pred, y_test)\n",
    "bagging_accuracy.append(bag_dec_accuracy)\n",
    "print(\"The accuracy for the training set is \", bag_dec.score(X_train_scaled, y_train))\n",
    "print(\"The accuracy for the test set is \", bag_dec.score(X_test_scaled, y_test))\n",
    "print(\"\\n\")\n",
    "\n",
    "\n",
    "models_scores.append(['Bagging_DecisionTree', bag_dec_accuracy])"
   ],
   "outputs": [
    {
     "output_type": "stream",
     "name": "stdout",
     "text": [
      "The accuracy for the training set is  0.99875\n",
      "The accuracy for the test set is  0.97\n",
      "\n",
      "\n",
      "Non Diabetic\n"
     ]
    }
   ],
   "metadata": {
    "execution": {
     "iopub.execute_input": "2021-11-05T01:47:31.728588Z",
     "iopub.status.busy": "2021-11-05T01:47:31.728162Z",
     "iopub.status.idle": "2021-11-05T01:47:31.741611Z",
     "shell.execute_reply": "2021-11-05T01:47:31.740177Z",
     "shell.execute_reply.started": "2021-11-05T01:47:31.728542Z"
    }
   }
  },
  {
   "cell_type": "code",
   "execution_count": 189,
   "source": [
    "bag_ref= BaggingClassifier(base_estimator=rfe)\n",
    "bagging_models.append('bagging RandomForest')\n",
    "\n",
    "bag_ref.fit(X_train_scaled, y_train)\n",
    "\n",
    "bag_ref_pred= bag_ref.predict(X_test_scaled)\n",
    "bag_ref_accuracy= accuracy_score(bag_ref_pred, y_test)\n",
    "bagging_accuracy.append(bag_ref_accuracy)\n",
    "print(\"The accuracy for the training set is \", bag_ref.score(X_train_scaled, y_train))\n",
    "print(\"The accuracy for the test set is \", bag_ref.score(X_test_scaled, y_test))\n",
    "\n",
    "models_scores.append(['Bagging_RandomForest', bag_ref_accuracy])"
   ],
   "outputs": [
    {
     "output_type": "stream",
     "name": "stdout",
     "text": [
      "The accuracy for the training set is  0.995\n",
      "The accuracy for the test set is  0.96\n"
     ]
    }
   ],
   "metadata": {
    "execution": {
     "iopub.execute_input": "2021-11-05T01:47:31.743249Z",
     "iopub.status.busy": "2021-11-05T01:47:31.74292Z",
     "iopub.status.idle": "2021-11-05T01:47:31.754378Z",
     "shell.execute_reply": "2021-11-05T01:47:31.75349Z",
     "shell.execute_reply.started": "2021-11-05T01:47:31.74322Z"
    }
   }
  },
  {
   "cell_type": "code",
   "execution_count": 190,
   "source": [
    "bag_svc= BaggingClassifier(base_estimator=svc)\n",
    "bagging_models.append('bagging svc')\n",
    "\n",
    "bag_svc.fit(X_train_scaled, y_train)\n",
    "\n",
    "bag_svc_pred= bag_ref.predict(X_test_scaled)\n",
    "bag_svc_accuracy= accuracy_score(bag_svc_pred, y_test)\n",
    "bagging_accuracy.append(bag_svc_accuracy)\n",
    "print(\"The accuracy for the training set is \", bag_svc.score(X_train_scaled, y_train))\n",
    "print(\"The accuracy for the test set is \", bag_svc.score(X_test_scaled, y_test))\n",
    "\n",
    "models_scores.append(['Bagging_SupportVector', bag_svc_accuracy])"
   ],
   "outputs": [
    {
     "output_type": "stream",
     "name": "stdout",
     "text": [
      "The accuracy for the training set is  0.850625\n",
      "The accuracy for the test set is  0.82\n"
     ]
    }
   ],
   "metadata": {
    "execution": {
     "iopub.execute_input": "2021-11-05T01:47:31.755895Z",
     "iopub.status.busy": "2021-11-05T01:47:31.755616Z",
     "iopub.status.idle": "2021-11-05T01:47:31.767544Z",
     "shell.execute_reply": "2021-11-05T01:47:31.766688Z",
     "shell.execute_reply.started": "2021-11-05T01:47:31.75587Z"
    }
   }
  },
  {
   "cell_type": "code",
   "execution_count": 191,
   "source": [
    "bag_knn= BaggingClassifier(base_estimator=knn)\n",
    "bagging_models.append('bagging knn')\n",
    "\n",
    "bag_knn.fit(X_train_scaled, y_train)\n",
    "\n",
    "bag_knn_pred= bag_knn.predict(X_test_scaled)\n",
    "bag_knn_accuracy= accuracy_score(bag_knn_pred, y_test)\n",
    "bagging_accuracy.append(bag_knn_accuracy)\n",
    "print(\"The accuracy for the training set is \", bag_knn.score(X_train_scaled, y_train))\n",
    "print(\"The accuracy for the test set is \", bag_knn.score(X_test_scaled, y_test))\n",
    "\n",
    "models_scores.append(['Bagging_knn', bag_knn_accuracy])"
   ],
   "outputs": [
    {
     "output_type": "stream",
     "name": "stdout",
     "text": [
      "The accuracy for the training set is  0.908125\n",
      "The accuracy for the test set is  0.8375\n"
     ]
    }
   ],
   "metadata": {
    "execution": {
     "iopub.execute_input": "2021-11-05T01:47:31.768793Z",
     "iopub.status.busy": "2021-11-05T01:47:31.768499Z",
     "iopub.status.idle": "2021-11-05T01:47:35.333849Z",
     "shell.execute_reply": "2021-11-05T01:47:35.333046Z",
     "shell.execute_reply.started": "2021-11-05T01:47:31.768765Z"
    }
   }
  },
  {
   "cell_type": "code",
   "execution_count": 192,
   "source": [
    "bag_log= BaggingClassifier(base_estimator=log)\n",
    "bagging_models.append('bagging logisticRegression')\n",
    "\n",
    "bag_log.fit(X_train_scaled, y_train)\n",
    "\n",
    "bag_log_pred= bag_knn.predict(X_test_scaled)\n",
    "bag_log_accuracy= accuracy_score(bag_log_pred, y_test)\n",
    "bagging_accuracy.append(bag_log_accuracy)\n",
    "print(\"The accuracy for the training set is \", bag_log.score(X_train_scaled, y_train))\n",
    "print(\"The accuracy for the test set is \", bag_log.score(X_test_scaled, y_test))"
   ],
   "outputs": [
    {
     "output_type": "stream",
     "name": "stdout",
     "text": [
      "The accuracy for the training set is  0.765625\n",
      "The accuracy for the test set is  0.7925\n"
     ]
    }
   ],
   "metadata": {}
  },
  {
   "cell_type": "code",
   "execution_count": 193,
   "source": [
    "fig,ax=plt.subplots(figsize=(10,8))\n",
    "sns.barplot(bagging_models,bagging_accuracy)\n",
    "ax.set_title(\"Accuracy of Models on Test Data\",pad=20)\n",
    "ax.set_xlabel(\"Models\",labelpad=20)\n",
    "ax.set_ylabel(\"Accuracy\",labelpad=20)\n",
    "plt.xticks(rotation=90)\n",
    "\n",
    "for p in ax.patches:\n",
    "    width, height = p.get_width(), p.get_height()\n",
    "    x, y = p.get_xy() \n",
    "    ax.annotate('{:.0%}'.format(height), (x+0.25, y + height + 0.01))"
   ],
   "outputs": [
    {
     "output_type": "display_data",
     "data": {
      "image/png": "[encoded data removed]",
      "text/plain": [
       "<Figure size 720x576 with 1 Axes>"
      ]
     },
     "metadata": {}
    }
   ],
   "metadata": {
    "execution": {
     "iopub.execute_input": "2021-11-05T01:47:35.335206Z",
     "iopub.status.busy": "2021-11-05T01:47:35.334934Z",
     "iopub.status.idle": "2021-11-05T01:47:35.480933Z",
     "shell.execute_reply": "2021-11-05T01:47:35.479801Z",
     "shell.execute_reply.started": "2021-11-05T01:47:35.335179Z"
    }
   }
  },
  {
   "cell_type": "code",
   "execution_count": 194,
   "source": [
    "boosting_models=[]\n",
    "boosting_accuracy=[]"
   ],
   "outputs": [],
   "metadata": {}
  },
  {
   "cell_type": "code",
   "execution_count": 195,
   "source": [
    "#boosting\n",
    "ada_dec= AdaBoostClassifier(base_estimator=dec)\n",
    "boosting_models.append('boosting Decision Tree')\n",
    "ada_dec.fit(X_train_scaled, y_train)\n",
    "ada_dec_pred= ada_dec.predict(X_test_scaled)\n",
    "boost_dec_accuracy= accuracy_score(ada_dec_pred, y_test)\n",
    "boosting_accuracy.append(boost_dec_accuracy)\n",
    "models_scores.append(['Adaboosting_DecisionTree', boost_dec_accuracy])\n",
    "\n",
    "\n",
    "ada_ref= AdaBoostClassifier(base_estimator=rfe)\n",
    "boosting_models.append('boosting random forest')\n",
    "ada_ref.fit(X_train_scaled, y_train)\n",
    "ada_ref_pred= ada_ref.predict(X_test_scaled)\n",
    "boost_ref_accuracy= accuracy_score(ada_ref_pred, y_test)\n",
    "boosting_accuracy.append(boost_ref_accuracy)\n",
    "models_scores.append(['Adaboosting_RandomForest', boost_ref_accuracy])\n",
    "\n",
    "\n",
    "ada_svc= AdaBoostClassifier(base_estimator=svc, algorithm='SAMME')\n",
    "boosting_models.append('boosting svc')\n",
    "ada_svc.fit(X_train_scaled, y_train)\n",
    "ada_svc_pred= ada_svc.predict(X_test_scaled)\n",
    "boost_svc_accuracy= accuracy_score(ada_svc_pred, y_test)\n",
    "boosting_accuracy.append(boost_svc_accuracy)\n",
    "models_scores.append(['Adaboosting_SupportVector', boost_svc_accuracy])\n",
    "\n",
    "\n",
    "fig,ax=plt.subplots(figsize=(10,8))\n",
    "sns.barplot(boosting_models,boosting_accuracy)\n",
    "ax.set_title(\"Accuracy of Models on Test Data\",pad=20)\n",
    "ax.set_xlabel(\"Models\",labelpad=20)\n",
    "ax.set_ylabel(\"Accuracy\",labelpad=20)\n",
    "plt.xticks(rotation=90)\n",
    "\n",
    "for p in ax.patches:\n",
    "    width, height = p.get_width(), p.get_height()\n",
    "    x, y = p.get_xy() \n",
    "    ax.annotate('{:.0%}'.format(height), (x+0.25, y + height + 0.01))"
   ],
   "outputs": [
    {
     "output_type": "display_data",
     "data": {
      "image/png": "[encoded data removed]",
      "text/plain": [
       "<Figure size 720x576 with 1 Axes>"
      ]
     },
     "metadata": {}
    }
   ],
   "metadata": {
    "execution": {
     "iopub.execute_input": "2021-11-05T01:47:35.482776Z",
     "iopub.status.busy": "2021-11-05T01:47:35.482377Z",
     "iopub.status.idle": "2021-11-05T01:47:35.492278Z",
     "shell.execute_reply": "2021-11-05T01:47:35.491053Z",
     "shell.execute_reply.started": "2021-11-05T01:47:35.482735Z"
    }
   }
  },
  {
   "cell_type": "code",
   "execution_count": 196,
   "source": [
    "estimators=[]\n",
    "\n",
    "model1= SVC()\n",
    "estimators.append((\"svc\", model1))\n",
    "\n",
    "model2= DecisionTreeClassifier()\n",
    "estimators.append((\"dec\", model2))\n",
    "\n",
    "model3= model3 = RandomForestClassifier()\n",
    "estimators.append((\"rad\", model3))\n",
    "\n",
    "model4= LogisticRegression()\n",
    "estimators.append((\"log\", model4))\n",
    "\n",
    "model5= KNeighborsClassifier()\n",
    "estimators.append((\"knn\", model5))\n",
    "\n",
    "# create the ensemble model\n",
    "ensemble = VotingClassifier(estimators, voting=\"hard\")\n",
    "ensemble.fit(X_train_scaled, y_train)\n",
    "\n",
    "\n",
    "vot_pred= ensemble.predict(X_test_scaled)\n",
    "score_vote= accuracy_score(vot_pred, y_test)\n",
    "print(score_vote*100)\n",
    "print(\"\\n\")\n",
    "print(\"The accuracy for the training set is \", ensemble.score(X_train_scaled, y_train))\n",
    "print(\"The accuracy for the test set is \", ensemble.score(X_test_scaled, y_test))\n",
    "print(\"\\n\")\n",
    "models_scores.append(['voting classifier', score_vote])"
   ],
   "outputs": [
    {
     "output_type": "stream",
     "name": "stdout",
     "text": [
      "90.25\n",
      "\n",
      "\n",
      "The accuracy for the training set is  0.946875\n",
      "The accuracy for the test set is  0.9025\n",
      "\n",
      "\n"
     ]
    }
   ],
   "metadata": {}
  },
  {
   "cell_type": "code",
   "execution_count": 197,
   "source": [
    "\n",
    "pd.DataFrame(models_scores).sort_values(by=[0], ascending=True)"
   ],
   "outputs": [
    {
     "output_type": "execute_result",
     "data": {
      "text/html": [
       "<div>\n",
       "<style scoped>\n",
       "    .dataframe tbody tr th:only-of-type {\n",
       "        vertical-align: middle;\n",
       "    }\n",
       "\n",
       "    .dataframe tbody tr th {\n",
       "        vertical-align: top;\n",
       "    }\n",
       "\n",
       "    .dataframe thead th {\n",
       "        text-align: right;\n",
       "    }\n",
       "</style>\n",
       "<table border=\"1\" class=\"dataframe\">\n",
       "  <thead>\n",
       "    <tr style=\"text-align: right;\">\n",
       "      <th></th>\n",
       "      <th>0</th>\n",
       "      <th>1</th>\n",
       "    </tr>\n",
       "  </thead>\n",
       "  <tbody>\n",
       "    <tr>\n",
       "      <th>4</th>\n",
       "      <td>Adaboosting_DecisionTree</td>\n",
       "      <td>0.9850</td>\n",
       "    </tr>\n",
       "    <tr>\n",
       "      <th>5</th>\n",
       "      <td>Adaboosting_RandomForest</td>\n",
       "      <td>0.9850</td>\n",
       "    </tr>\n",
       "    <tr>\n",
       "      <th>6</th>\n",
       "      <td>Adaboosting_SupportVector</td>\n",
       "      <td>0.6575</td>\n",
       "    </tr>\n",
       "    <tr>\n",
       "      <th>0</th>\n",
       "      <td>Bagging_DecisionTree</td>\n",
       "      <td>0.9700</td>\n",
       "    </tr>\n",
       "    <tr>\n",
       "      <th>1</th>\n",
       "      <td>Bagging_RandomForest</td>\n",
       "      <td>0.9600</td>\n",
       "    </tr>\n",
       "    <tr>\n",
       "      <th>2</th>\n",
       "      <td>Bagging_SupportVector</td>\n",
       "      <td>0.9600</td>\n",
       "    </tr>\n",
       "    <tr>\n",
       "      <th>3</th>\n",
       "      <td>Bagging_knn</td>\n",
       "      <td>0.8375</td>\n",
       "    </tr>\n",
       "    <tr>\n",
       "      <th>7</th>\n",
       "      <td>voting classifier</td>\n",
       "      <td>0.9025</td>\n",
       "    </tr>\n",
       "  </tbody>\n",
       "</table>\n",
       "</div>"
      ],
      "text/plain": [
       "                           0       1\n",
       "4   Adaboosting_DecisionTree  0.9850\n",
       "5   Adaboosting_RandomForest  0.9850\n",
       "6  Adaboosting_SupportVector  0.6575\n",
       "0       Bagging_DecisionTree  0.9700\n",
       "1       Bagging_RandomForest  0.9600\n",
       "2      Bagging_SupportVector  0.9600\n",
       "3                Bagging_knn  0.8375\n",
       "7          voting classifier  0.9025"
      ]
     },
     "metadata": {},
     "execution_count": 197
    }
   ],
   "metadata": {
    "execution": {
     "iopub.execute_input": "2021-11-05T01:47:35.50184Z",
     "iopub.status.busy": "2021-11-05T01:47:35.501572Z",
     "iopub.status.idle": "2021-11-05T01:47:35.723134Z",
     "shell.execute_reply": "2021-11-05T01:47:35.722238Z",
     "shell.execute_reply.started": "2021-11-05T01:47:35.501813Z"
    }
   }
  },
  {
   "cell_type": "code",
   "execution_count": 214,
   "source": [
    "bag_dec = BaggingClassifier(base_estimator=dec)\n",
    "bagging_models.append('bagging decisionTree')\n",
    "bag_dec.fit(X_train_scaled, y_train)\n",
    "bag_dec_pred = bag_dec.predict([[100, 20, 50,60,0.78, 0.65, 40]]) #labels=[1=\"Diabetes\", 0=\"Not Diabetes\"]\n",
    "if bag_dec_pred == 1:\n",
    "    print(\"Diabetic\")\n",
    "else:\n",
    "    print(\"Non Diabetic\")"
   ],
   "outputs": [
    {
     "output_type": "stream",
     "name": "stdout",
     "text": [
      "Diabetic\n"
     ]
    }
   ],
   "metadata": {
    "execution": {
     "iopub.execute_input": "2021-11-05T01:47:35.726958Z",
     "iopub.status.busy": "2021-11-05T01:47:35.72666Z",
     "iopub.status.idle": "2021-11-05T01:47:35.742021Z",
     "shell.execute_reply": "2021-11-05T01:47:35.741203Z",
     "shell.execute_reply.started": "2021-11-05T01:47:35.726929Z"
    }
   }
  },
  {
   "cell_type": "code",
   "execution_count": 211,
   "source": [
    "import pickle\n",
    "\n",
    "Pkl_Filename = \"Diabetes.pkl\"  \n",
    "\n",
    "with open(Pkl_Filename, 'wb') as file:  \n",
    "    pickle.dump(bag_dec, file)"
   ],
   "outputs": [],
   "metadata": {
    "execution": {
     "iopub.execute_input": "2021-11-05T01:50:21.101469Z",
     "iopub.status.busy": "2021-11-05T01:50:21.100841Z",
     "iopub.status.idle": "2021-11-05T01:50:21.25547Z",
     "shell.execute_reply": "2021-11-05T01:50:21.254417Z",
     "shell.execute_reply.started": "2021-11-05T01:50:21.101429Z"
    }
   }
  },
  {
   "cell_type": "code",
   "execution_count": 205,
   "source": [
    "# Load the Model back from file\n",
    "with open(Pkl_Filename, 'rb') as file:  \n",
    "    Pickled_LR_Model = pickle.load(file)\n",
    "\n",
    "Pickled_LR_Model"
   ],
   "outputs": [
    {
     "output_type": "execute_result",
     "data": {
      "text/plain": [
       "BaggingClassifier(base_estimator=DecisionTreeClassifier())"
      ]
     },
     "metadata": {},
     "execution_count": 205
    }
   ],
   "metadata": {}
  },
  {
   "cell_type": "code",
   "execution_count": null,
   "source": [],
   "outputs": [],
   "metadata": {}
  }
 ],
 "metadata": {
  "kernelspec": {
   "display_name": "Python 3 (ipykernel)",
   "language": "python",
   "name": "python3"
  },
  "language_info": {
   "codemirror_mode": {
    "name": "ipython",
    "version": 3
   },
   "file_extension": ".py",
   "mimetype": "text/x-python",
   "name": "python",
   "nbconvert_exporter": "python",
   "pygments_lexer": "ipython3",
   "version": "3.8.8"
  }
 },
 "nbformat": 4,
 "nbformat_minor": 4
}